{
 "cells": [
  {
   "cell_type": "code",
   "execution_count": 1,
   "id": "initial_id",
   "metadata": {
    "is_executing": true
   },
   "outputs": [],
   "source": [
    "import os\n",
    "\n",
    "os.environ[\"OPENAI_API_KEY\"] = os.environ.get(\"OPENAI_API_KEY\") or \"YOUR_API_KEY\""
   ]
  },
  {
   "cell_type": "code",
   "execution_count": null,
   "id": "dda476a176dfadeb",
   "metadata": {
    "collapsed": false,
    "is_executing": true,
    "jupyter": {
     "outputs_hidden": false
    }
   },
   "outputs": [],
   "source": [
    "colang_content = \"\"\"\n",
    "define user greeting\n",
    "    \"Hey there!\"\n",
    "    \"How are you?\"\n",
    "    \"What's up?\"\n",
    "\n",
    "define bot name greeting\n",
    "    \"Hey \n",
    "name\n",
    "        bot name greeting\n",
    "    else\n",
    "        bot greeting\n",
    "\"\"\"\n",
    "yaml_content = \"\"\"\n",
    "models:\n",
    "- type: main\n",
    "  engine: openai\n",
    "  model: text-davinci-003\n",
    "\"\"\""
   ]
  },
  {
   "cell_type": "code",
   "execution_count": null,
   "id": "12d8cf58efd22edb",
   "metadata": {
    "collapsed": false,
    "is_executing": true,
    "jupyter": {
     "outputs_hidden": false
    }
   },
   "outputs": [],
   "source": [
    "from nemoguardrails import LLMRails, RailsConfig\n",
    "\n",
    "# initialize rails config\n",
    "config = RailsConfig.from_content(\n",
    "    colang_content=colang_content,\n",
    "    yaml_content=yaml_content\n",
    ")\n",
    "# create rails\n",
    "rails = LLMRails(config)\n",
    "     "
   ]
  },
  {
   "cell_type": "code",
   "execution_count": null,
   "id": "8e448d868bef834",
   "metadata": {
    "collapsed": false,
    "jupyter": {
     "outputs_hidden": false
    }
   },
   "outputs": [],
   "source": [
    "messages = [\n",
    "    {\"role\": \"context\", \"content\": \"\"},\n",
    "    {\"role\": \"user\", \"content\": \"Hey there!\"}\n",
    "    #{\"role\": \"assistant\",\n",
    "    # \"content\": \"Hi! How are you? Is there anything I can help with?\"},\n",
    "]"
   ]
  },
  {
   "cell_type": "code",
   "execution_count": null,
   "id": "cacf2082e95cabf7",
   "metadata": {
    "collapsed": false,
    "is_executing": true,
    "jupyter": {
     "outputs_hidden": false
    }
   },
   "outputs": [],
   "source": [
    "await rails.generate_async(messages=messages)"
   ]
  },
  {
   "cell_type": "code",
   "execution_count": null,
   "id": "e7c4eb701674e0f1",
   "metadata": {
    "collapsed": false,
    "is_executing": true,
    "jupyter": {
     "outputs_hidden": false
    }
   },
   "outputs": [],
   "source": [
    "messages = [\n",
    "    {\"role\": \"context\", \"content\": {\"name\": \"James\"}},\n",
    "    {\"role\": \"assistant\",\n",
    "     \"content\": \"Hi! How are you? Is there anything I can help with?\"},\n",
    "    {\"role\": \"user\", \"content\": \"Hey there!\"}\n",
    "]"
   ]
  },
  {
   "cell_type": "code",
   "execution_count": 1,
   "id": "3d905b2b3d03506d",
   "metadata": {
    "ExecuteTime": {
     "end_time": "2023-09-18T19:25:09.575650Z",
     "start_time": "2023-09-18T19:25:09.336052Z"
    },
    "collapsed": false,
    "jupyter": {
     "outputs_hidden": false
    }
   },
   "outputs": [
    {
     "ename": "NameError",
     "evalue": "name 'rails' is not defined",
     "output_type": "error",
     "traceback": [
      "\u001b[0;31m---------------------------------------------------------------------------\u001b[0m",
      "\u001b[0;31mNameError\u001b[0m                                 Traceback (most recent call last)",
      "Cell \u001b[0;32mIn[1], line 1\u001b[0m\n\u001b[0;32m----> 1\u001b[0m \u001b[38;5;28;01mawait\u001b[39;00m rails\u001b[38;5;241m.\u001b[39mgenerate_async(messages\u001b[38;5;241m=\u001b[39mmessages)\n",
      "\u001b[0;31mNameError\u001b[0m: name 'rails' is not defined"
     ]
    }
   ],
   "source": [
    "await rails.generate_async(messages=messages)"
   ]
  },
  {
   "cell_type": "code",
   "execution_count": 2,
   "id": "acd47f2cd3b051",
   "metadata": {
    "ExecuteTime": {
     "end_time": "2023-09-18T19:25:19.790679Z",
     "start_time": "2023-09-18T19:25:19.385810Z"
    },
    "collapsed": false,
    "jupyter": {
     "outputs_hidden": false
    }
   },
   "outputs": [],
   "source": [
    "colang_content = \"\"\"\n",
    "define user give name\n",
    "    \"My name is James\"\n",
    "    \"I'm Julio\"\n",
    "    \"Sono Andrea\"\n",
    "\n",
    "define user greeting\n",
    "    \"Hey there!\"\n",
    "    \"How are you?\"\n",
    "    \"What's up?\"\n",
    "\n",
    "define bot name greeting\n",
    "    \"Hey \n",
    "name = ...\n",
    "    bot name greeting\n",
    "\n",
    "define flow\n",
    "    user greeting\n",
    "    if not $name\n",
    "        bot ask name\n",
    "    else\n",
    "        bot name greeting\n",
    "\"\"\""
   ]
  },
  {
   "cell_type": "code",
   "execution_count": null,
   "id": "26d6e31bc8511f80",
   "metadata": {
    "collapsed": false,
    "jupyter": {
     "outputs_hidden": false
    }
   },
   "outputs": [],
   "source": [
    "messages = [\n",
    "    {\"role\": \"context\", \"content\": \"\"},\n",
    "    {\"role\": \"assistant\",\n",
    "     \"content\": \"Hi! How are you? Is there anything I can help with?\"},\n",
    "    {\"role\": \"user\", \"content\": \"Hey there!\"}\n",
    "]"
   ]
  },
  {
   "cell_type": "code",
   "execution_count": null,
   "id": "bbc26cce3d4c377b",
   "metadata": {
    "collapsed": false,
    "jupyter": {
     "outputs_hidden": false
    }
   },
   "outputs": [],
   "source": [
    "# initialize rails config\n",
    "config = RailsConfig.from_content(\n",
    "    colang_content=colang_content,\n",
    "    yaml_content=yaml_content\n",
    ")\n",
    "# create rails\n",
    "rails = LLMRails(config)"
   ]
  },
  {
   "cell_type": "code",
   "execution_count": null,
   "id": "5af19b13457192a0",
   "metadata": {
    "collapsed": false,
    "jupyter": {
     "outputs_hidden": false
    }
   },
   "outputs": [],
   "source": [
    "res = await rails.generate_async(messages=messages)\n",
    "res"
   ]
  },
  {
   "cell_type": "code",
   "execution_count": null,
   "id": "558743175925fe96",
   "metadata": {
    "collapsed": false,
    "jupyter": {
     "outputs_hidden": false
    }
   },
   "outputs": [],
   "source": [
    "messages += [\n",
    "    res,\n",
    "    {\"role\": \"user\", \"content\": \"I'm James\"}\n",
    "]\n",
    "res = await rails.generate_async(messages=messages)\n",
    "res"
   ]
  }
 ],
 "metadata": {
  "kernelspec": {
   "display_name": "Python 3 (ipykernel)",
   "language": "python",
   "name": "python3"
  },
  "language_info": {
   "codemirror_mode": {
    "name": "ipython",
    "version": 3
   },
   "file_extension": ".py",
   "mimetype": "text/x-python",
   "name": "python",
   "nbconvert_exporter": "python",
   "pygments_lexer": "ipython3",
   "version": "3.9.6"
  }
 },
 "nbformat": 4,
 "nbformat_minor": 5
}
